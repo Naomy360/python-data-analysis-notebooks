{
 "cells": [
  {
   "cell_type": "markdown",
   "id": "224a4ab7",
   "metadata": {},
   "source": [
    "**Wesleyan University ASTR 210**\n",
    "\n",
    "# Exercise 3"
   ]
  },
  {
   "cell_type": "markdown",
   "id": "722fcf68",
   "metadata": {},
   "source": [
    "## Import statement\n",
    "\n",
    "Always put your import statements at the top!  Import the numpy package below, renaming it as np."
   ]
  },
  {
   "cell_type": "code",
   "execution_count": 25,
   "id": "769e9cc3",
   "metadata": {},
   "outputs": [],
   "source": [
    "import numpy as np # YOUR CODE HERE"
   ]
  },
  {
   "cell_type": "markdown",
   "id": "50153942",
   "metadata": {},
   "source": [
    "## Initializing arrays\n",
    "\n",
    "There are often multiple equivalent ways to create a given array.  Below, you will create arrays arr1 and arr2 using three different methods each."
   ]
  },
  {
   "cell_type": "markdown",
   "id": "7269a153",
   "metadata": {},
   "source": [
    "Create an array called arr1 whose contents are [2, 5, 8, 11, 14, 17, 20] by \n",
    "\n",
    "(i) using np.array() to convert a list"
   ]
  },
  {
   "cell_type": "code",
   "execution_count": 4,
   "id": "f5fc8e68",
   "metadata": {},
   "outputs": [
    {
     "data": {
      "text/plain": [
       "array([ 2,  5,  8, 11, 14, 17, 20])"
      ]
     },
     "execution_count": 4,
     "metadata": {},
     "output_type": "execute_result"
    }
   ],
   "source": [
    "arr1 = arr1 = np.array([2, 5, 8, 11, 14, 17, 20])# YOUR CODE HERE\n",
    "arr1# YOUR CODE HERE\n"
   ]
  },
  {
   "cell_type": "markdown",
   "id": "c081b93f",
   "metadata": {},
   "source": [
    "(ii) using np.arange() and arithmetic"
   ]
  },
  {
   "cell_type": "code",
   "execution_count": 5,
   "id": "295a04ea",
   "metadata": {},
   "outputs": [
    {
     "data": {
      "text/plain": [
       "array([ 2,  5,  8, 11, 14, 17, 20])"
      ]
     },
     "execution_count": 5,
     "metadata": {},
     "output_type": "execute_result"
    }
   ],
   "source": [
    "arr1 =np.arange(1, 21, 3) + 1 # YOUR CODE HERE\n",
    "arr1"
   ]
  },
  {
   "cell_type": "markdown",
   "id": "1433a07e",
   "metadata": {},
   "source": [
    "(iii) using np.linspace()"
   ]
  },
  {
   "cell_type": "code",
   "execution_count": 6,
   "id": "0de33249",
   "metadata": {},
   "outputs": [
    {
     "data": {
      "text/plain": [
       "array([ 2.,  5.,  8., 11., 14., 17., 20.])"
      ]
     },
     "execution_count": 6,
     "metadata": {},
     "output_type": "execute_result"
    }
   ],
   "source": [
    "arr1 = np.linspace(2, 20, 7)# YOUR CODE HERE\n",
    "arr1"
   ]
  },
  {
   "cell_type": "markdown",
   "id": "60be8955",
   "metadata": {},
   "source": [
    "Create an array named arr2 which is the same length as arr1, whose elements all have the value 2, by\n",
    "\n",
    "(i) using np.array() to convert a list"
   ]
  },
  {
   "cell_type": "code",
   "execution_count": 7,
   "id": "9189a48d",
   "metadata": {},
   "outputs": [
    {
     "data": {
      "text/plain": [
       "array([2, 2, 2, 2, 2, 2, 2])"
      ]
     },
     "execution_count": 7,
     "metadata": {},
     "output_type": "execute_result"
    }
   ],
   "source": [
    "arr2 = np.array([2] * len(arr1)) # YOUR CODE HERE\n",
    "arr2"
   ]
  },
  {
   "cell_type": "markdown",
   "id": "b8170a45",
   "metadata": {},
   "source": [
    "(ii) using np.zeros() and addition"
   ]
  },
  {
   "cell_type": "code",
   "execution_count": 8,
   "id": "0608d639",
   "metadata": {},
   "outputs": [
    {
     "data": {
      "text/plain": [
       "array([2., 2., 2., 2., 2., 2., 2.])"
      ]
     },
     "execution_count": 8,
     "metadata": {},
     "output_type": "execute_result"
    }
   ],
   "source": [
    "arr2 = np.zeros(len(arr1)) + 2 # YOUR CODE HERE\n",
    "arr2"
   ]
  },
  {
   "cell_type": "markdown",
   "id": "077bfb8d",
   "metadata": {},
   "source": [
    "(iii) using np.ones() and multiplication"
   ]
  },
  {
   "cell_type": "code",
   "execution_count": 9,
   "id": "a69864cd",
   "metadata": {},
   "outputs": [
    {
     "data": {
      "text/plain": [
       "array([2., 2., 2., 2., 2., 2., 2.])"
      ]
     },
     "execution_count": 9,
     "metadata": {},
     "output_type": "execute_result"
    }
   ],
   "source": [
    "arr2 = np.ones(len(arr1)) * 2 # YOUR CODE HERE\n",
    "arr2"
   ]
  },
  {
   "cell_type": "markdown",
   "id": "8d28150b",
   "metadata": {},
   "source": [
    "## Combining arrays"
   ]
  },
  {
   "cell_type": "markdown",
   "id": "f1cf9624",
   "metadata": {},
   "source": [
    "In the cells below, calculate and print:\n",
    "\n",
    "The sum of arr1 and arr2:"
   ]
  },
  {
   "cell_type": "code",
   "execution_count": 10,
   "id": "e5abca42",
   "metadata": {},
   "outputs": [
    {
     "data": {
      "text/plain": [
       "array([ 4.,  7., 10., 13., 16., 19., 22.])"
      ]
     },
     "execution_count": 10,
     "metadata": {},
     "output_type": "execute_result"
    }
   ],
   "source": [
    "arr1 + arr2 # YOUR CODE HERE"
   ]
  },
  {
   "cell_type": "markdown",
   "id": "fa447250",
   "metadata": {},
   "source": [
    "The product of arr1 and arr2:"
   ]
  },
  {
   "cell_type": "code",
   "execution_count": 11,
   "id": "02a946c0",
   "metadata": {},
   "outputs": [
    {
     "data": {
      "text/plain": [
       "array([ 4., 10., 16., 22., 28., 34., 40.])"
      ]
     },
     "execution_count": 11,
     "metadata": {},
     "output_type": "execute_result"
    }
   ],
   "source": [
    "arr1 * arr2 # YOUR CODE HERE"
   ]
  },
  {
   "cell_type": "markdown",
   "id": "cddf6c55",
   "metadata": {},
   "source": [
    "The square of arr1:"
   ]
  },
  {
   "cell_type": "code",
   "execution_count": 12,
   "id": "aca847a9",
   "metadata": {},
   "outputs": [
    {
     "data": {
      "text/plain": [
       "array([  4.,  25.,  64., 121., 196., 289., 400.])"
      ]
     },
     "execution_count": 12,
     "metadata": {},
     "output_type": "execute_result"
    }
   ],
   "source": [
    "arr1**2 # YOUR CODE HERE"
   ]
  },
  {
   "cell_type": "markdown",
   "id": "87bd33c6",
   "metadata": {},
   "source": [
    "## Indexing arrays"
   ]
  },
  {
   "cell_type": "markdown",
   "id": "f130f922",
   "metadata": {},
   "source": [
    "Print the first four elements of arr1:"
   ]
  },
  {
   "cell_type": "code",
   "execution_count": 13,
   "id": "d750101a",
   "metadata": {},
   "outputs": [
    {
     "data": {
      "text/plain": [
       "array([ 2.,  5.,  8., 11.])"
      ]
     },
     "execution_count": 13,
     "metadata": {},
     "output_type": "execute_result"
    }
   ],
   "source": [
    "arr1[0:4]# YOUR CODE HERE"
   ]
  },
  {
   "cell_type": "markdown",
   "id": "bf3b4ff5",
   "metadata": {},
   "source": [
    "Print the last four elements of arr1:"
   ]
  },
  {
   "cell_type": "code",
   "execution_count": 14,
   "id": "758418ba",
   "metadata": {},
   "outputs": [
    {
     "data": {
      "text/plain": [
       "array([11., 14., 17., 20.])"
      ]
     },
     "execution_count": 14,
     "metadata": {},
     "output_type": "execute_result"
    }
   ],
   "source": [
    "arr1[-4:]# YOUR CODE HERE"
   ]
  },
  {
   "cell_type": "markdown",
   "id": "9a15ff92",
   "metadata": {},
   "source": [
    "Define a Boolean array doubledigits which is True where arr1 is at least 10, and False otherwise:"
   ]
  },
  {
   "cell_type": "code",
   "execution_count": 15,
   "id": "dbd47d78",
   "metadata": {},
   "outputs": [
    {
     "name": "stdout",
     "output_type": "stream",
     "text": [
      "[ 2.  5.  8. 11. 14. 17. 20.]\n",
      "[False False False  True  True  True  True]\n"
     ]
    }
   ],
   "source": [
    "doubledigits = arr1 > 9 # YOUR CODE HERE\n",
    "print(arr1)\n",
    "print(doubledigits)"
   ]
  },
  {
   "cell_type": "markdown",
   "id": "e47abcd7",
   "metadata": {},
   "source": [
    "Use doubledigits to print out the elements of arr1 which are at least 10:"
   ]
  },
  {
   "cell_type": "code",
   "execution_count": 16,
   "id": "665f73af",
   "metadata": {},
   "outputs": [
    {
     "name": "stdout",
     "output_type": "stream",
     "text": [
      "[11. 14. 17. 20.]\n"
     ]
    }
   ],
   "source": [
    "print(arr1[doubledigits]) # YOUR CODE HERE"
   ]
  },
  {
   "cell_type": "markdown",
   "id": "1dd05bd0",
   "metadata": {},
   "source": [
    "Use doubledigits to print out the elements of arr1 which are *less than* 10:"
   ]
  },
  {
   "cell_type": "code",
   "execution_count": 17,
   "id": "bf9464c5",
   "metadata": {},
   "outputs": [
    {
     "name": "stdout",
     "output_type": "stream",
     "text": [
      "[2. 5. 8.]\n"
     ]
    }
   ],
   "source": [
    "print(arr1[~doubledigits]) # YOUR CODE HERE"
   ]
  },
  {
   "cell_type": "markdown",
   "id": "66f6e0b4",
   "metadata": {},
   "source": [
    "## Array math and functions"
   ]
  },
  {
   "cell_type": "markdown",
   "id": "f512eed6",
   "metadata": {},
   "source": [
    "In the cell below, I import a module named \"math\" which knows the value of $\\pi$ (as in, $A_{\\rm circle}=\\pi r^2$) to high precision, and assign that value to a variable named \"pi\"."
   ]
  },
  {
   "cell_type": "code",
   "execution_count": 24,
   "id": "25b38dc4",
   "metadata": {},
   "outputs": [
    {
     "name": "stdout",
     "output_type": "stream",
     "text": [
      "3.141592653589793\n"
     ]
    }
   ],
   "source": [
    "import math\n",
    "pi = math.pi\n",
    "print(pi)"
   ]
  },
  {
   "cell_type": "markdown",
   "id": "eb113489",
   "metadata": {},
   "source": [
    "Use the np.linspace() function to create an array named theta that ranges from 0 to $2\\pi$ with 9 elements:"
   ]
  },
  {
   "cell_type": "code",
   "execution_count": 19,
   "id": "e3b41b2c",
   "metadata": {},
   "outputs": [
    {
     "name": "stdout",
     "output_type": "stream",
     "text": [
      "[0.         0.78539816 1.57079633 2.35619449 3.14159265 3.92699082\n",
      " 4.71238898 5.49778714 6.28318531]\n"
     ]
    }
   ],
   "source": [
    "theta = np.linspace(0, 2*pi, 9) # YOUR CODE HERE\n",
    "print(theta)"
   ]
  },
  {
   "cell_type": "markdown",
   "id": "dc28f12d",
   "metadata": {},
   "source": [
    "If you initialized it correctly, theta should be $[0,\\frac{\\pi}{4},\\frac{\\pi}{2},\\frac{3\\pi}{4},\\pi,\\frac{5\\pi}{4},\\frac{6\\pi}{4},\\frac{7\\pi}{4},2\\pi]$.  Check your work by printing out theta normalized (i.e., divided) by $\\pi$."
   ]
  },
  {
   "cell_type": "code",
   "execution_count": 20,
   "id": "f03d6d84",
   "metadata": {},
   "outputs": [
    {
     "name": "stdout",
     "output_type": "stream",
     "text": [
      "[0.   0.25 0.5  0.75 1.   1.25 1.5  1.75 2.  ]\n"
     ]
    }
   ],
   "source": [
    "print(theta/pi) # YOUR CODE HERE# YOUR CODE HERE"
   ]
  },
  {
   "cell_type": "markdown",
   "id": "9d6bd037",
   "metadata": {},
   "source": [
    "The numpy package includes many useful mathematical functions (see the cheat sheet on the Moodle), including all the trigonometric functions like sine and cosine.  Our array theta, if interpreted as a set of angles in units of radians, goes all the way around the unit circle.  Use the np.sin() and np.cos() functions to print out the sine and cosine of each element of theta."
   ]
  },
  {
   "cell_type": "code",
   "execution_count": 21,
   "id": "03bfa99d",
   "metadata": {},
   "outputs": [
    {
     "name": "stdout",
     "output_type": "stream",
     "text": [
      "[ 0.00000000e+00  7.07106781e-01  1.00000000e+00  7.07106781e-01\n",
      "  1.22464680e-16 -7.07106781e-01 -1.00000000e+00 -7.07106781e-01\n",
      " -2.44929360e-16]\n",
      "[ 1.00000000e+00  7.07106781e-01  6.12323400e-17 -7.07106781e-01\n",
      " -1.00000000e+00 -7.07106781e-01 -1.83697020e-16  7.07106781e-01\n",
      "  1.00000000e+00]\n"
     ]
    }
   ],
   "source": [
    "print(np.sin(theta)) # YOUR CODE HERE (sine)\n",
    "print(np.cos(theta)) # YOUR CODE HERE (cosine)"
   ]
  },
  {
   "cell_type": "markdown",
   "id": "a56ba1b3",
   "metadata": {},
   "source": [
    "The values you printed out likely went out to a lot of decimal places and were printed out using scientific notation, i.e., $x$ e $y = x \\times 10^y$.  Moreover, you may notice that some elements of the array are very very small, something $\\times 10^{-16}$!  This is because of finite *machine precision*.  Computers can only store a finite number of decimal places, but $\\pi$ is an irrational number with an infinite number of decimal places.  So, when we perform calculations using $\\pi$, we cannot help but introduce a small amount of error because we had to round it.  If you look at the values of theta where those $10^{-16}$'s are generated, you will see that those are elements where $\\sin(\\theta)$ or $\\cos(\\theta)$ should be *zero*.\n",
    "\n",
    "We can make these arrays a little bit more human-readable by rounding the numbers to a smaller number of decimal places.  The np.around() function will do just that.  It takes as the first argument the array you would like to round, then an *optional argument* called decimals which determines how many decimal places to round to.  (We will talk more about optional arguments later on.)  I have written a call to np.around() below which will round X to three decimal places.  Replace X with your code for $\\sin(\\theta)$ and $\\cos(\\theta)$."
   ]
  },
  {
   "cell_type": "code",
   "execution_count": 22,
   "id": "ee9b1634",
   "metadata": {},
   "outputs": [
    {
     "name": "stdout",
     "output_type": "stream",
     "text": [
      "[ 0.     0.707  1.     0.707  0.    -0.707 -1.    -0.707 -0.   ]\n",
      "[ 1.     0.707  0.    -0.707 -1.    -0.707 -0.     0.707  1.   ]\n"
     ]
    }
   ],
   "source": [
    "print(np.around(np.sin(theta), decimals=3)) # Replace X with your code for sine of theta\n",
    "print(np.around(np.cos(theta), decimals=3)) # Replace X with your code for cosine of theta"
   ]
  },
  {
   "cell_type": "markdown",
   "id": "15cb9ce1",
   "metadata": {},
   "source": [
    "In case you were wondering:"
   ]
  },
  {
   "cell_type": "code",
   "execution_count": 23,
   "id": "89e5896c",
   "metadata": {},
   "outputs": [
    {
     "data": {
      "text/plain": [
       "np.float64(0.7071067811865476)"
      ]
     },
     "execution_count": 23,
     "metadata": {},
     "output_type": "execute_result"
    }
   ],
   "source": [
    "np.sqrt(2)/2"
   ]
  },
  {
   "cell_type": "code",
   "execution_count": null,
   "id": "81b109af-eaba-42e4-9ffc-103e83b99e89",
   "metadata": {},
   "outputs": [],
   "source": []
  }
 ],
 "metadata": {
  "kernelspec": {
   "display_name": "Python 3 (ipykernel)",
   "language": "python",
   "name": "python3"
  },
  "language_info": {
   "codemirror_mode": {
    "name": "ipython",
    "version": 3
   },
   "file_extension": ".py",
   "mimetype": "text/x-python",
   "name": "python",
   "nbconvert_exporter": "python",
   "pygments_lexer": "ipython3",
   "version": "3.11.10"
  }
 },
 "nbformat": 4,
 "nbformat_minor": 5
}
