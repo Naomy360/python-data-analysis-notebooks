{
 "cells": [
  {
   "cell_type": "markdown",
   "id": "224a4ab7",
   "metadata": {},
   "source": [
    "**Wesleyan University ASTR 210**\n",
    "\n",
    "# Exercise 6: Write your own versions of NumPy functions\n",
    "\n",
    "The final exercise is a little more free-form than the others.  I would like you to choose two functions from the NumPy package and try to write your own versions of them!  First let's import the package so we have something to compare to:"
   ]
  },
  {
   "cell_type": "code",
   "execution_count": 12,
   "id": "769e9cc3",
   "metadata": {},
   "outputs": [
    {
     "name": "stdout",
     "output_type": "stream",
     "text": [
      "1.26.4\n"
     ]
    }
   ],
   "source": [
    "import numpy as np\n",
    "\n"
   ]
  },
  {
   "cell_type": "markdown",
   "id": "4828f92c",
   "metadata": {},
   "source": [
    "## Choose your functions to replicate\n",
    "\n",
    "Throughout this course, we have used many functions as \"black boxes\" without necessarily thinking about *how* they're doing what they're doing.  Take a look at the list of functions below and **choose two** that you would like to try and replicate.  \n",
    "\n",
    "Your version of the function does not need to have all the optional arguments that are listed in the documentation (these are often quite technical), but should at least have all the arguments I've written out. \n",
    "\n",
    "Possible functions include:\n",
    "- [linspace(min, max, num=50)](https://numpy.org/doc/stable/reference/generated/numpy.linspace.html)\n",
    "- [zeros(shape)](https://numpy.org/doc/stable/reference/generated/numpy.zeros.html) [Note that this should work whether *shape* is a single value (a scalar), or a list or tuple that would create a multidimensional array.] \n",
    "- [histogram(a, bins=10, range=None)](https://numpy.org/doc/stable/reference/generated/numpy.histogram.html)\n",
    "- [min(a)](https://numpy.org/doc/stable/reference/generated/numpy.min.html)\n",
    "- [mean(a)](https://numpy.org/doc/stable/reference/generated/numpy.mean.html)\n",
    "- [log10(a)](https://numpy.org/doc/stable/reference/generated/numpy.log10.html)\n",
    "- [ravel(a)](https://numpy.org/doc/stable/reference/generated/numpy.ravel.html)\n",
    "\n",
    "If you think of another function you would like to try to write, you can do that - just give us a heads up so we can make sure it's an appropriate function.\n",
    "\n",
    "Write your versions of each function in the cells below.  (You may use other numpy functions within your function, but not to the point that your function becomes trivial.)"
   ]
  },
  {
   "cell_type": "code",
   "execution_count": 4,
   "id": "13f5c48f",
   "metadata": {},
   "outputs": [],
   "source": [
    "def custom_linspace(start, stop, num=50):\n",
    "    if num <= 0:\n",
    "        return []\n",
    "    step = (stop - start) / (num - 1)\n",
    "    return [start + step * i for i in range(num)]# YOUR CODE HERE - FUNCTION 1"
   ]
  },
  {
   "cell_type": "code",
   "execution_count": 5,
   "id": "fce22c24",
   "metadata": {},
   "outputs": [],
   "source": [
    "def custom_mean(arr):\n",
    "    total = 0\n",
    "    count = 0\n",
    "    for value in arr:\n",
    "        total += value\n",
    "        count += 1\n",
    "    return total / count if count > 0 else float('nan')\n",
    "# YOUR CODE HERE - FUNCTION 2"
   ]
  },
  {
   "cell_type": "markdown",
   "id": "868b776a",
   "metadata": {},
   "source": [
    "## Show that your functions work\n",
    "\n",
    "Now, to prove that your functions do the same thing as the NumPy versions, call your function and the NumPy version with the same arguments.  You should do this at least twice with two different sets of arguments to show that the first one wasn't a fluke."
   ]
  },
  {
   "cell_type": "code",
   "execution_count": 6,
   "id": "39aae827",
   "metadata": {},
   "outputs": [
    {
     "name": "stdout",
     "output_type": "stream",
     "text": [
      "Custom linspace:\n",
      "[0.0, 2.5, 5.0, 7.5, 10.0]\n",
      "[-5.0, 0.0, 5.0]\n"
     ]
    }
   ],
   "source": [
    "# YOUR CODE HERE - CALL YOUR FUNCTION 1 AND PRINT THE RESULTS\n",
    "# CALL THE NUMPY VERSION OF FUNCTION 1 AND PRINT THE RESULTS\n",
    "# Testing custom_linspace\n",
    "print(\"Custom linspace:\")\n",
    "print(custom_linspace(0, 10, 5))  # Expected: [0, 2.5, 5, 7.5, 10]\n",
    "print(custom_linspace(-5, 5, 3))  # Expected: [-5, 0, 5]"
   ]
  },
  {
   "cell_type": "code",
   "execution_count": 7,
   "id": "1c350444",
   "metadata": {},
   "outputs": [
    {
     "name": "stdout",
     "output_type": "stream",
     "text": [
      "NumPy linspace:\n",
      "[ 0.   2.5  5.   7.5 10. ]\n",
      "[-5.  0.  5.]\n"
     ]
    }
   ],
   "source": [
    "# YOUR CODE HERE - SAME AS ABOVE BUT WITH A DIFFERENT SET OF ARGUMENTS\n",
    "print(\"NumPy linspace:\")\n",
    "print(np.linspace(0, 10, 5))\n",
    "print(np.linspace(-5, 5, 3))"
   ]
  },
  {
   "cell_type": "code",
   "execution_count": 8,
   "id": "21173a8e",
   "metadata": {},
   "outputs": [
    {
     "name": "stdout",
     "output_type": "stream",
     "text": [
      "Custom mean:\n",
      "3.0\n",
      "5.0\n"
     ]
    }
   ],
   "source": [
    "# YOUR CODE HERE - CALL YOUR FUNCTION 2 AND PRINT THE RESULTS\n",
    "# CALL THE NUMPY VERSION OF FUNCTION 2 AND PRINT THE RESULTS\n",
    "print(\"Custom mean:\")\n",
    "print(custom_mean([1, 2, 3, 4, 5]))  # Expected: 3.0\n",
    "print(custom_mean([-10, 0, 10, 20]))  # Expected: 5.0"
   ]
  },
  {
   "cell_type": "code",
   "execution_count": 10,
   "id": "44dd440c-0217-419f-b206-71d3a3bfc5d3",
   "metadata": {},
   "outputs": [
    {
     "name": "stdout",
     "output_type": "stream",
     "text": [
      "NumPy mean:\n",
      "3.0\n",
      "5.0\n"
     ]
    }
   ],
   "source": [
    "print(\"NumPy mean:\")\n",
    "print(np.mean([1, 2, 3, 4, 5]))\n",
    "print(np.mean([-10, 0, 10, 20]))# YOUR CODE HERE - SAME AS ABOVE BUT WITH A DIFFERENT SET OF ARGUMENTS"
   ]
  }
 ],
 "metadata": {
  "kernelspec": {
   "display_name": "Python 3 (ipykernel)",
   "language": "python",
   "name": "python3"
  },
  "language_info": {
   "codemirror_mode": {
    "name": "ipython",
    "version": 3
   },
   "file_extension": ".py",
   "mimetype": "text/x-python",
   "name": "python",
   "nbconvert_exporter": "python",
   "pygments_lexer": "ipython3",
   "version": "3.11.10"
  }
 },
 "nbformat": 4,
 "nbformat_minor": 5
}
